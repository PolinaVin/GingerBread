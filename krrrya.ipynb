{
 "cells": [
  {
   "cell_type": "code",
   "execution_count": 115,
   "metadata": {},
   "outputs": [],
   "source": [
    "from itertools import combinations\n",
    "from functools import reduce\n",
    "def lang(lastofus,k):\n",
    "    ripdus=[str(i[0]) for i in lastofus]\n",
    "    zen=1\n",
    "    chlst=[]\n",
    "    for i in range (len(lastofus)):\n",
    "        print('i=',i)\n",
    "        if i!=k:\n",
    "            zen*=(lastofus[k][0]-lastofus[i][0])\n",
    "    for i in range(1, len(lastofus)):\n",
    "        jd=ripdus[:k]\n",
    "        if k!=len(lastofus)-1:\n",
    "            jd.extend(ripdus[k+1:])#список из иксов, кроме к-го\n",
    "        print(jd)\n",
    "        if i!=1:\n",
    "            jd=','.join(jd)\n",
    "            print('!',jd)\n",
    "            jd=list(combinations(jd.split(','), i))\n",
    "        print('1',jd)\n",
    "        for j in range (len(jd)):\n",
    "            if i!=1:\n",
    "                jd[j]=reduce(lambda x,y:(int(x)*int(y)), jd[j])\n",
    "            else:\n",
    "                jd[j]=int(jd[j])\n",
    "        print('2',jd)\n",
    "        chlst.insert(0,sum(jd))\n",
    "        print('chlst=', chlst)\n",
    "    chlst.append(1)\n",
    "    for i in range (len(chlst)):\n",
    "        chlst[i]=chlst[i]/zen*(-1)**(i)\n",
    "    return (chlst)\n",
    "def ffunk(lastofus):\n",
    "    for k in range (len(lastofus)):\n",
    "    "
   ]
  },
  {
   "cell_type": "code",
   "execution_count": 118,
   "metadata": {
    "scrolled": true
   },
   "outputs": [
    {
     "name": "stdout",
     "output_type": "stream",
     "text": [
      "i= 0\n",
      "i= 1\n",
      "i= 2\n",
      "['1', '2']\n",
      "1 ['1', '2']\n",
      "2 [1, 2]\n",
      "chlst= [3]\n",
      "['1', '2']\n",
      "! 1,2\n",
      "1 [('1', '2')]\n",
      "2 [2]\n",
      "chlst= [2, 3]\n",
      "[1.0, -1.5, 0.5]\n"
     ]
    }
   ],
   "source": [
    "lastofus=[[1,2],[2,7],[3,5]]\n",
    "print(lang(lastofus,2))"
   ]
  },
  {
   "cell_type": "code",
   "execution_count": 87,
   "metadata": {},
   "outputs": [
    {
     "name": "stdout",
     "output_type": "stream",
     "text": [
      "1,2,3,4,5\n",
      "[('1',), ('2',), ('3',), ('4',), ('5',)]\n",
      "['1', ('2',), ('3',), ('4',), ('5',)]\n"
     ]
    }
   ],
   "source": [
    "from itertools import combinations\n",
    "from functools import reduce\n",
    "l=['1','2','3','4','5']\n",
    "l=','.join(l)\n",
    "print(l)\n",
    "l=list(combinations(l.split(','), 1))\n",
    "print(l)\n",
    "l[0]=reduce(lambda x,y:(int(x)*int(y)), l[0])\n",
    "print(l)"
   ]
  },
  {
   "cell_type": "code",
   "execution_count": null,
   "metadata": {},
   "outputs": [],
   "source": []
  }
 ],
 "metadata": {
  "kernelspec": {
   "display_name": "Python 3",
   "language": "python",
   "name": "python3"
  },
  "language_info": {
   "codemirror_mode": {
    "name": "ipython",
    "version": 3
   },
   "file_extension": ".py",
   "mimetype": "text/x-python",
   "name": "python",
   "nbconvert_exporter": "python",
   "pygments_lexer": "ipython3",
   "version": "3.7.1"
  }
 },
 "nbformat": 4,
 "nbformat_minor": 2
}
